{
  "nbformat": 4,
  "nbformat_minor": 0,
  "metadata": {
    "colab": {
      "provenance": [],
      "include_colab_link": true
    },
    "kernelspec": {
      "name": "python3",
      "display_name": "Python 3"
    },
    "language_info": {
      "name": "python"
    }
  },
  "cells": [
    {
      "cell_type": "markdown",
      "metadata": {
        "id": "view-in-github",
        "colab_type": "text"
      },
      "source": [
        "<a href=\"https://colab.research.google.com/github/KimberlySalazarB/Proyecto_Final_Comunicacion/blob/main/Proyecto_Final.ipynb\" target=\"_parent\"><img src=\"https://colab.research.google.com/assets/colab-badge.svg\" alt=\"Open In Colab\"/></a>"
      ]
    },
    {
      "cell_type": "code",
      "execution_count": null,
      "metadata": {
        "id": "Dsz9SY6_wiHs"
      },
      "outputs": [],
      "source": [
        "#1\n",
        "!pip install catboost"
      ]
    },
    {
      "cell_type": "markdown",
      "source": [
        "# **Importación de los modulos y bibliotecas necesarios para el entrenamiento.**"
      ],
      "metadata": {
        "id": "8p7WsRjN_DGj"
      }
    },
    {
      "cell_type": "code",
      "source": [
        "#2\n",
        "import pandas as pd\n",
        "from sklearn.model_selection import train_test_split\n",
        "from sklearn.pipeline import Pipeline\n",
        "from sklearn.preprocessing import LabelEncoder, StandardScaler, OneHotEncoder\n",
        "from sklearn.compose import ColumnTransformer\n",
        "from sklearn.ensemble import GradientBoostingClassifier\n",
        "from catboost import CatBoostClassifier\n",
        "from sklearn.metrics import accuracy_score, classification_report\n",
        "from sklearn.model_selection import learning_curve\n",
        "import matplotlib.pyplot as plt"
      ],
      "metadata": {
        "id": "UvSe2BUO8a1t"
      },
      "execution_count": null,
      "outputs": []
    },
    {
      "cell_type": "markdown",
      "source": [
        "Se carga la base de datos desde la URL a un DataFrame, y las columnas se nombran se nombra segun la lista 'colum_naes'"
      ],
      "metadata": {
        "id": "OKyJJqTN_jPp"
      }
    },
    {
      "cell_type": "code",
      "source": [
        "#3\n",
        "# Descargar el conjunto de datos\n",
        "url = 'http://archive.ics.uci.edu/ml/machine-learning-databases/adult/adult.data'\n",
        "columns = ['age', 'workclass', 'fnlwgt', 'education', 'education-num', 'marital-status',\n",
        "           'occupation', 'relationship', 'race', 'sex', 'capital-gain', 'capital-loss',\n",
        "           'hours-per-week', 'native-country', 'income']\n",
        "data = pd.read_csv(url, names=columns)"
      ],
      "metadata": {
        "id": "bbk6FESR8avU"
      },
      "execution_count": null,
      "outputs": []
    },
    {
      "cell_type": "code",
      "source": [
        "#4\n",
        "# Descripción del conjunto de datos\n",
        "print(\"Descripción del conjunto de datos:\")\n",
        "print(data.head())"
      ],
      "metadata": {
        "id": "c4FCOMvl8aqW"
      },
      "execution_count": null,
      "outputs": []
    },
    {
      "cell_type": "code",
      "source": [
        "#5\n",
        "data.describe()"
      ],
      "metadata": {
        "id": "kRbYLMM38anP"
      },
      "execution_count": null,
      "outputs": []
    },
    {
      "cell_type": "code",
      "source": [
        "#6\n",
        "# Número y tipo de características\n",
        "print(\"Número y tipo de características:\")\n",
        "print(data.dtypes)"
      ],
      "metadata": {
        "id": "TdGMnUJk8akG"
      },
      "execution_count": null,
      "outputs": []
    },
    {
      "cell_type": "markdown",
      "source": [
        "**Metodología**"
      ],
      "metadata": {
        "id": "GD1QCd42Aedf"
      }
    },
    {
      "cell_type": "code",
      "source": [
        "#7\n",
        "# Verificar qué columnas tienen datos faltantes\n",
        "fal_data = data.isnull().sum()\n",
        "print(fal_data)"
      ],
      "metadata": {
        "id": "ZrV1ZqEJ8ag_"
      },
      "execution_count": null,
      "outputs": []
    },
    {
      "cell_type": "code",
      "source": [
        "#8"
      ],
      "metadata": {
        "id": "bqJ3nZCX8abo"
      },
      "execution_count": null,
      "outputs": []
    },
    {
      "cell_type": "code",
      "source": [
        "#9"
      ],
      "metadata": {
        "id": "AU5iDkVR8aQ-"
      },
      "execution_count": null,
      "outputs": []
    },
    {
      "cell_type": "code",
      "source": [
        "#10"
      ],
      "metadata": {
        "id": "F1UM06sw8gIW"
      },
      "execution_count": null,
      "outputs": []
    },
    {
      "cell_type": "code",
      "source": [
        "#11"
      ],
      "metadata": {
        "id": "qS9_ZH_n8ftY"
      },
      "execution_count": null,
      "outputs": []
    },
    {
      "cell_type": "code",
      "source": [
        "#12"
      ],
      "metadata": {
        "id": "gZOlY_Oa8fd2"
      },
      "execution_count": null,
      "outputs": []
    },
    {
      "cell_type": "code",
      "source": [
        "#13\n",
        "# Crear el pipeline de preprocesamiento y modelado con Gradient Boosting\n",
        "pipeline_gb = Pipeline([\n",
        "    ('preprocessor', preprocessor),\n",
        "    ('classifier', GradientBoostingClassifier(random_state=42))\n",
        "])"
      ],
      "metadata": {
        "id": "zrw1L-1W8fUX"
      },
      "execution_count": null,
      "outputs": []
    },
    {
      "cell_type": "code",
      "source": [
        "#14"
      ],
      "metadata": {
        "id": "SkrnMlrF8fL1"
      },
      "execution_count": null,
      "outputs": []
    },
    {
      "cell_type": "code",
      "source": [
        "#15"
      ],
      "metadata": {
        "id": "N3kiNH2d8fB4"
      },
      "execution_count": null,
      "outputs": []
    },
    {
      "cell_type": "code",
      "source": [
        "##16"
      ],
      "metadata": {
        "id": "96v6LLW58e52"
      },
      "execution_count": null,
      "outputs": []
    },
    {
      "cell_type": "code",
      "source": [
        "#17"
      ],
      "metadata": {
        "id": "eVLAoiPr8exW"
      },
      "execution_count": null,
      "outputs": []
    },
    {
      "cell_type": "code",
      "source": [
        "#18"
      ],
      "metadata": {
        "id": "vzhYeqEh8en6"
      },
      "execution_count": null,
      "outputs": []
    },
    {
      "cell_type": "code",
      "source": [
        "#19\n",
        "# Evaluar la precisión y el informe de clasificación para Gradient Boosting\n",
        "accuracy_gb = accuracy_score(y_test, y_pred_gb)\n",
        "report_gb = classification_report(y_test, y_pred_gb)"
      ],
      "metadata": {
        "id": "ORT3YUO18ef3"
      },
      "execution_count": null,
      "outputs": []
    },
    {
      "cell_type": "code",
      "source": [
        "#20\n",
        "# Evaluar la precisión y el informe de clasificación para CatBoost\n",
        "accuracy_catboost = accuracy_score(y_test, y_pred_catboost)\n",
        "report_catboost = classification_report(y_test, y_pred_catboost)"
      ],
      "metadata": {
        "id": "-QCsfp6E8eX-"
      },
      "execution_count": null,
      "outputs": []
    },
    {
      "cell_type": "code",
      "source": [
        "#21"
      ],
      "metadata": {
        "id": "SinMJJ8Y8eP9"
      },
      "execution_count": null,
      "outputs": []
    },
    {
      "cell_type": "code",
      "source": [
        "#22"
      ],
      "metadata": {
        "id": "nzOK24Wl8eHF"
      },
      "execution_count": null,
      "outputs": []
    },
    {
      "cell_type": "code",
      "source": [
        "#23"
      ],
      "metadata": {
        "id": "oT5xfZni8d79"
      },
      "execution_count": null,
      "outputs": []
    },
    {
      "cell_type": "code",
      "source": [
        "#25"
      ],
      "metadata": {
        "id": "j0Pte6X88dw9"
      },
      "execution_count": null,
      "outputs": []
    },
    {
      "cell_type": "code",
      "source": [
        "#25"
      ],
      "metadata": {
        "id": "rPN0MOLx8dA8"
      },
      "execution_count": null,
      "outputs": []
    }
  ]
}